{
 "cells": [
  {
   "cell_type": "code",
   "execution_count": 1,
   "id": "98857ffc",
   "metadata": {},
   "outputs": [],
   "source": [
    "import pandas as pd\n",
    "import numpy as np"
   ]
  },
  {
   "cell_type": "code",
   "execution_count": 2,
   "id": "7fe2d831",
   "metadata": {},
   "outputs": [
    {
     "name": "stdout",
     "output_type": "stream",
     "text": [
      "NBA_PBP_2015-16.csv  NBA_PBP_2017-18.csv  NBA_PBP_2019-20.csv\n",
      "NBA_PBP_2016-17.csv  NBA_PBP_2018-19.csv  NBA_PBP_2020-21.csv\n"
     ]
    }
   ],
   "source": [
    "!ls data/"
   ]
  },
  {
   "cell_type": "code",
   "execution_count": 3,
   "id": "ccfd1199",
   "metadata": {},
   "outputs": [
    {
     "data": {
      "text/plain": [
       "Index(['URL', 'GameType', 'Location', 'Date', 'Time', 'WinningTeam', 'Quarter',\n",
       "       'SecLeft', 'AwayTeam', 'AwayPlay', 'AwayScore', 'HomeTeam', 'HomePlay',\n",
       "       'HomeScore', 'Shooter', 'ShotType', 'ShotOutcome', 'ShotDist',\n",
       "       'Assister', 'Blocker', 'FoulType', 'Fouler', 'Fouled', 'Rebounder',\n",
       "       'ReboundType', 'ViolationPlayer', 'ViolationType', 'TimeoutTeam',\n",
       "       'FreeThrowShooter', 'FreeThrowOutcome', 'FreeThrowNum', 'EnterGame',\n",
       "       'LeaveGame', 'TurnoverPlayer', 'TurnoverType', 'TurnoverCause',\n",
       "       'TurnoverCauser', 'JumpballAwayPlayer', 'JumpballHomePlayer',\n",
       "       'JumpballPoss'],\n",
       "      dtype='object')"
      ]
     },
     "execution_count": 3,
     "metadata": {},
     "output_type": "execute_result"
    }
   ],
   "source": [
    "data = pd.read_csv(\"data/NBA_PBP_2020-21.csv\")\n",
    "data.columns"
   ]
  },
  {
   "cell_type": "code",
   "execution_count": 4,
   "id": "a98da699",
   "metadata": {},
   "outputs": [
    {
     "name": "stderr",
     "output_type": "stream",
     "text": [
      "/home/james/miniconda3/envs/bursts/lib/python3.7/site-packages/ipykernel_launcher.py:4: SettingWithCopyWarning: \n",
      "A value is trying to be set on a copy of a slice from a DataFrame.\n",
      "Try using .loc[row_indexer,col_indexer] = value instead\n",
      "\n",
      "See the caveats in the documentation: https://pandas.pydata.org/pandas-docs/stable/user_guide/indexing.html#returning-a-view-versus-a-copy\n",
      "  after removing the cwd from sys.path.\n",
      "/home/james/miniconda3/envs/bursts/lib/python3.7/site-packages/ipykernel_launcher.py:5: SettingWithCopyWarning: \n",
      "A value is trying to be set on a copy of a slice from a DataFrame.\n",
      "Try using .loc[row_indexer,col_indexer] = value instead\n",
      "\n",
      "See the caveats in the documentation: https://pandas.pydata.org/pandas-docs/stable/user_guide/indexing.html#returning-a-view-versus-a-copy\n",
      "  \"\"\"\n"
     ]
    }
   ],
   "source": [
    "locations = data[\"Location\"].unique()\n",
    "dates = data[\"Date\"].unique()\n",
    "data_game = data[(data[\"Location\"] == locations[0]) & (data[\"Date\"] == dates[0])]\n",
    "data_game[\"ScoreDiff\"] = data_game[\"HomeScore\"] - data_game[\"AwayScore\"]\n",
    "data_game['TotalSecLeft'] = data_game['SecLeft'] + 60.*12*(4 - data_game['Quarter'])"
   ]
  },
  {
   "cell_type": "code",
   "execution_count": 64,
   "id": "c83850db",
   "metadata": {},
   "outputs": [
    {
     "data": {
      "text/plain": [
       "0      True\n",
       "1      True\n",
       "2      True\n",
       "3      True\n",
       "4      True\n",
       "       ... \n",
       "509    True\n",
       "510    True\n",
       "511    True\n",
       "512    True\n",
       "513    True\n",
       "Name: HomePlay, Length: 514, dtype: bool"
      ]
     },
     "execution_count": 64,
     "metadata": {},
     "output_type": "execute_result"
    }
   ],
   "source": [
    "data_game['HomePlay'] != 'Nan'"
   ]
  },
  {
   "cell_type": "code",
   "execution_count": 5,
   "id": "9c6a7227",
   "metadata": {},
   "outputs": [
    {
     "data": {
      "text/html": [
       "<div>\n",
       "<style scoped>\n",
       "    .dataframe tbody tr th:only-of-type {\n",
       "        vertical-align: middle;\n",
       "    }\n",
       "\n",
       "    .dataframe tbody tr th {\n",
       "        vertical-align: top;\n",
       "    }\n",
       "\n",
       "    .dataframe thead th {\n",
       "        text-align: right;\n",
       "    }\n",
       "</style>\n",
       "<table border=\"1\" class=\"dataframe\">\n",
       "  <thead>\n",
       "    <tr style=\"text-align: right;\">\n",
       "      <th></th>\n",
       "      <th>ShotType</th>\n",
       "      <th>ShotOutcome</th>\n",
       "      <th>ShotDist</th>\n",
       "      <th>FreeThrowShooter</th>\n",
       "      <th>FreeThrowOutcome</th>\n",
       "      <th>HomeScore</th>\n",
       "      <th>AwayScore</th>\n",
       "      <th>ScoreDiff</th>\n",
       "    </tr>\n",
       "  </thead>\n",
       "  <tbody>\n",
       "    <tr>\n",
       "      <th>0</th>\n",
       "      <td>NaN</td>\n",
       "      <td>NaN</td>\n",
       "      <td>NaN</td>\n",
       "      <td>NaN</td>\n",
       "      <td>NaN</td>\n",
       "      <td>0</td>\n",
       "      <td>0</td>\n",
       "      <td>0</td>\n",
       "    </tr>\n",
       "    <tr>\n",
       "      <th>1</th>\n",
       "      <td>NaN</td>\n",
       "      <td>NaN</td>\n",
       "      <td>NaN</td>\n",
       "      <td>NaN</td>\n",
       "      <td>NaN</td>\n",
       "      <td>0</td>\n",
       "      <td>0</td>\n",
       "      <td>0</td>\n",
       "    </tr>\n",
       "    <tr>\n",
       "      <th>2</th>\n",
       "      <td>NaN</td>\n",
       "      <td>NaN</td>\n",
       "      <td>NaN</td>\n",
       "      <td>NaN</td>\n",
       "      <td>NaN</td>\n",
       "      <td>0</td>\n",
       "      <td>0</td>\n",
       "      <td>0</td>\n",
       "    </tr>\n",
       "    <tr>\n",
       "      <th>3</th>\n",
       "      <td>NaN</td>\n",
       "      <td>NaN</td>\n",
       "      <td>NaN</td>\n",
       "      <td>S. Curry - curryst01</td>\n",
       "      <td>make</td>\n",
       "      <td>0</td>\n",
       "      <td>1</td>\n",
       "      <td>-1</td>\n",
       "    </tr>\n",
       "    <tr>\n",
       "      <th>4</th>\n",
       "      <td>NaN</td>\n",
       "      <td>NaN</td>\n",
       "      <td>NaN</td>\n",
       "      <td>S. Curry - curryst01</td>\n",
       "      <td>make</td>\n",
       "      <td>0</td>\n",
       "      <td>2</td>\n",
       "      <td>-2</td>\n",
       "    </tr>\n",
       "    <tr>\n",
       "      <th>...</th>\n",
       "      <td>...</td>\n",
       "      <td>...</td>\n",
       "      <td>...</td>\n",
       "      <td>...</td>\n",
       "      <td>...</td>\n",
       "      <td>...</td>\n",
       "      <td>...</td>\n",
       "      <td>...</td>\n",
       "    </tr>\n",
       "    <tr>\n",
       "      <th>509</th>\n",
       "      <td>2-pt jump shot</td>\n",
       "      <td>miss</td>\n",
       "      <td>9.0</td>\n",
       "      <td>NaN</td>\n",
       "      <td>NaN</td>\n",
       "      <td>125</td>\n",
       "      <td>96</td>\n",
       "      <td>29</td>\n",
       "    </tr>\n",
       "    <tr>\n",
       "      <th>510</th>\n",
       "      <td>NaN</td>\n",
       "      <td>NaN</td>\n",
       "      <td>NaN</td>\n",
       "      <td>NaN</td>\n",
       "      <td>NaN</td>\n",
       "      <td>125</td>\n",
       "      <td>96</td>\n",
       "      <td>29</td>\n",
       "    </tr>\n",
       "    <tr>\n",
       "      <th>511</th>\n",
       "      <td>3-pt jump shot</td>\n",
       "      <td>make</td>\n",
       "      <td>26.0</td>\n",
       "      <td>NaN</td>\n",
       "      <td>NaN</td>\n",
       "      <td>125</td>\n",
       "      <td>99</td>\n",
       "      <td>26</td>\n",
       "    </tr>\n",
       "    <tr>\n",
       "      <th>512</th>\n",
       "      <td>NaN</td>\n",
       "      <td>NaN</td>\n",
       "      <td>NaN</td>\n",
       "      <td>NaN</td>\n",
       "      <td>NaN</td>\n",
       "      <td>125</td>\n",
       "      <td>99</td>\n",
       "      <td>26</td>\n",
       "    </tr>\n",
       "    <tr>\n",
       "      <th>513</th>\n",
       "      <td>NaN</td>\n",
       "      <td>NaN</td>\n",
       "      <td>NaN</td>\n",
       "      <td>NaN</td>\n",
       "      <td>NaN</td>\n",
       "      <td>125</td>\n",
       "      <td>99</td>\n",
       "      <td>26</td>\n",
       "    </tr>\n",
       "  </tbody>\n",
       "</table>\n",
       "<p>514 rows × 8 columns</p>\n",
       "</div>"
      ],
      "text/plain": [
       "           ShotType ShotOutcome  ShotDist      FreeThrowShooter  \\\n",
       "0               NaN         NaN       NaN                   NaN   \n",
       "1               NaN         NaN       NaN                   NaN   \n",
       "2               NaN         NaN       NaN                   NaN   \n",
       "3               NaN         NaN       NaN  S. Curry - curryst01   \n",
       "4               NaN         NaN       NaN  S. Curry - curryst01   \n",
       "..              ...         ...       ...                   ...   \n",
       "509  2-pt jump shot        miss       9.0                   NaN   \n",
       "510             NaN         NaN       NaN                   NaN   \n",
       "511  3-pt jump shot        make      26.0                   NaN   \n",
       "512             NaN         NaN       NaN                   NaN   \n",
       "513             NaN         NaN       NaN                   NaN   \n",
       "\n",
       "    FreeThrowOutcome  HomeScore  AwayScore  ScoreDiff  \n",
       "0                NaN          0          0          0  \n",
       "1                NaN          0          0          0  \n",
       "2                NaN          0          0          0  \n",
       "3               make          0          1         -1  \n",
       "4               make          0          2         -2  \n",
       "..               ...        ...        ...        ...  \n",
       "509              NaN        125         96         29  \n",
       "510              NaN        125         96         29  \n",
       "511              NaN        125         99         26  \n",
       "512              NaN        125         99         26  \n",
       "513              NaN        125         99         26  \n",
       "\n",
       "[514 rows x 8 columns]"
      ]
     },
     "execution_count": 5,
     "metadata": {},
     "output_type": "execute_result"
    }
   ],
   "source": [
    "data_game[[\"ShotType\",\"ShotOutcome\",\"ShotDist\",\"FreeThrowShooter\",\"FreeThrowOutcome\",\"HomeScore\",\"AwayScore\",\"ScoreDiff\"]]"
   ]
  },
  {
   "cell_type": "code",
   "execution_count": 6,
   "id": "156aa9e5",
   "metadata": {},
   "outputs": [
    {
     "name": "stdout",
     "output_type": "stream",
     "text": [
      "[25 25 25 24 23 25 23 26 26 26 28 28 28 31 31 31 31 31 29 29 29 29 29 29\n",
      " 29 29 29 31 31 32 32 31 30 30 30 30 30 33 33 33 33 33 33 33 35 35 35 35\n",
      " 35 37 37 37 37 37 37 36 39 39 39 39 39 39 39 39 39 39 39 37 40 38 40 40\n",
      " 40 40 40 40 40 40 40 40 40 40 40 38 38 36 36 36 36 36 36 36 36 37 38 38\n",
      " 41 41 44 44 44 44 44 44 44 44 44 44 44 44 44 44 44 44 45 46 44 46 43 43\n",
      " 43 40 40 40 40 40 40 40 40 42 42 42 42 42 42 44 44 44 44 43 43 43 41 41\n",
      " 41 41 41 41 41 41 39 39 39 39 39 42 42 42 42 42 42 43 43 43 43 44 44 44\n",
      " 45 45 45 45 45 45 45 45 45 45 45 45 45 45 45 45 45 45 45 45 45 45 45 45\n",
      " 45 42 42 42 42 42 42 42 42 40 40 40 42 42 42 42 42 42 44 42 42 42 42 42\n",
      " 42 44 44 44 42 44 44 44 44 44 41 41 41 41 41 41 41 41 41 41 41 41 41 41\n",
      " 41 41 41 41 41 43 43 43 43 42 42 42 40 43 43 43 43 43 43 45 45 45 45 46\n",
      " 47 47 47 47 48 49 49 49 47 47 47 46 45 45 45 45 45 47 47 47 48 49 49 49\n",
      " 49 50 50 50 50 50 50 50 50 50 50 50 50 50 50 50 50 50 50 50 50 50 50 50\n",
      " 50 50 50 50 50 50 50 50 50 50 50 50 50 50 50 50 50 50 50 50 50 50 50 50\n",
      " 50 50 50 50 50 50 50 50 50 50 50 50 50 50 50 50 50 50 50 50 50 50 50 50\n",
      " 50 50 50 50 50 50 50 50 50 50 50 50 50 50 50 50 50 50 50 50 50 50 50 50\n",
      " 50 50 50 50 50 50 50 50 50 50 50 50 50 50 50 50 50 50 50 50 50 50 50 50\n",
      " 50 50 50 50 50 50 50 50 50 50 50 50 50 50 50 50 50 50 50 50 50 50 50 50\n",
      " 50 50 50 50 50 50 50 50 50 50 50 50 50 50 50 50 50 50 50 50 50 50 50 50\n",
      " 50 50 50 50 50 50 50 50 50 50 50 50 50 50 50 50 50 50 50 50 50 50 50 50\n",
      " 50 50 50 50 50 50 50 50 50 50 50 50 49 49 49 49 49 50 50 50 50 50 50 50\n",
      " 50 50 50 50 50 50 50 50 50 50]\n",
      "[ 0  1  1  1  1  1  1  2  2  2  2  2  2  2  3  3  3  3  3  3  3  3  3  3\n",
      "  3  3  4  4  4  4  4  4  4  4  4  4  4  4  5  5  5  5  5  5  5  5  5  5\n",
      "  5  6  6  6  6  6  6  6  6  6  6  6  6  6  7  7  7  7  7  7  7  8  8  8\n",
      "  8  8  8  8  8  8  8  8  8  9  9  9  9  9  9  9 10 10 10 10 10 10 10 10\n",
      " 10 10 10 10 10 10 10 10 10 10 10 11 11 11 11 11 11 11 11 11 11 12 12 12\n",
      " 12 12 12 12 12 12 13 13 13 13 13 14 14 14 14 14 14 14 14 14 14 14 15 15\n",
      " 15 15 15 15 15 15 16 16 16 16 16 16 16 16 16 16 16 16 16 17 17 17 17 17\n",
      " 17 17 17 17 18 18 18 18 18 18 18 18 18 18 18 18 18 18 18 18 18 18 19 19\n",
      " 19 19 19 19 19 19 19 19 19 20 20 20 20 20 20 20 20 21 21 21 21 21 21 21\n",
      " 21 21 21 21 21 22 22 22 22 22 22 22 22 22 22 22 22 23 23 23 23 23 23 23\n",
      " 23 23 23 23 23 24 24 24 24 24 24 24 24 24 24 24 24 25 25 25 25 25 25 25\n",
      " 25 26 26 26 26 26 26 26 26 26 26 26 26 26 26 26 26 26 27 27 27 27 27 27\n",
      " 27 28 28 28 28 28 28 28 28 28 28 28 29 29 29 29 29 29 29 29 29 29 29 29\n",
      " 29 30 30 30 30 30 30 31 31 31 31 31 31 31 31 31 31 31 31 31 31 31 31 31\n",
      " 31 31 31 31 32 32 32 32 32 32 32 32 32 33 33 33 33 33 33 33 33 33 33 33\n",
      " 33 33 33 33 34 34 34 34 34 34 34 35 35 35 35 35 35 35 35 36 36 36 36 36\n",
      " 36 36 36 36 36 36 37 37 37 37 37 37 38 38 38 38 38 38 38 38 38 38 38 38\n",
      " 38 38 39 39 39 39 39 39 39 40 40 40 40 40 40 40 40 40 41 41 41 41 41 41\n",
      " 41 41 41 41 41 41 41 41 41 41 41 41 42 42 42 42 42 42 42 42 42 42 42 42\n",
      " 42 42 43 43 43 43 43 43 43 43 44 44 44 44 44 44 44 44 44 44 44 45 45 45\n",
      " 45 45 45 46 46 46 46 46 46 46 46 47 47 47 47 47 47 47 47 47 48 48 48 48\n",
      " 48 48 48 48 48 48 48 48 48 48]\n"
     ]
    }
   ],
   "source": [
    "tau = 60.\n",
    "score_bins = np.arange(-25,25.1,1)\n",
    "time_bins = np.arange(0,2881,60)\n",
    "time_bins = time_bins[::-1]\n",
    "mat = np.zeros((50,50))\n",
    "times = data_game['TotalSecLeft']\n",
    "scores = data_game['ScoreDiff']\n",
    "scores_dig = np.digitize(scores,score_bins[1:])\n",
    "times_dig = np.digitize(times,time_bins[:-1])\n",
    "print(scores_dig)\n",
    "print(times_dig)"
   ]
  },
  {
   "cell_type": "code",
   "execution_count": 28,
   "id": "7e292280",
   "metadata": {},
   "outputs": [
    {
     "name": "stderr",
     "output_type": "stream",
     "text": [
      "/home/james/miniconda3/envs/bursts/lib/python3.7/site-packages/pandas/core/indexing.py:1817: SettingWithCopyWarning: \n",
      "A value is trying to be set on a copy of a slice from a DataFrame.\n",
      "Try using .loc[row_indexer,col_indexer] = value instead\n",
      "\n",
      "See the caveats in the documentation: https://pandas.pydata.org/pandas-docs/stable/user_guide/indexing.html#returning-a-view-versus-a-copy\n",
      "  self._setitem_single_column(loc, value, pi)\n"
     ]
    },
    {
     "data": {
      "text/plain": [
       "0      0\n",
       "1      0\n",
       "2      0\n",
       "3      0\n",
       "4      0\n",
       "      ..\n",
       "509    0\n",
       "510    0\n",
       "511    0\n",
       "512    0\n",
       "513    0\n",
       "Name: PointsAdded, Length: 514, dtype: int64"
      ]
     },
     "execution_count": 28,
     "metadata": {},
     "output_type": "execute_result"
    }
   ],
   "source": [
    "data_game.loc[:,'PointsAdded'] = 0\n",
    "data_game['PointsAdded']"
   ]
  },
  {
   "cell_type": "code",
   "execution_count": 36,
   "id": "460897a2",
   "metadata": {},
   "outputs": [
    {
     "name": "stderr",
     "output_type": "stream",
     "text": [
      "/home/james/miniconda3/envs/bursts/lib/python3.7/site-packages/pandas/core/indexing.py:1817: SettingWithCopyWarning: \n",
      "A value is trying to be set on a copy of a slice from a DataFrame.\n",
      "Try using .loc[row_indexer,col_indexer] = value instead\n",
      "\n",
      "See the caveats in the documentation: https://pandas.pydata.org/pandas-docs/stable/user_guide/indexing.html#returning-a-view-versus-a-copy\n",
      "  self._setitem_single_column(loc, value, pi)\n"
     ]
    }
   ],
   "source": [
    "data_game.loc[data_game['FreeThrowOutcome']=='make','PointsAdded'] = 1"
   ]
  },
  {
   "cell_type": "code",
   "execution_count": 55,
   "id": "b94fe15a",
   "metadata": {},
   "outputs": [
    {
     "name": "stderr",
     "output_type": "stream",
     "text": [
      "/home/james/miniconda3/envs/bursts/lib/python3.7/site-packages/pandas/core/indexing.py:1817: SettingWithCopyWarning: \n",
      "A value is trying to be set on a copy of a slice from a DataFrame.\n",
      "Try using .loc[row_indexer,col_indexer] = value instead\n",
      "\n",
      "See the caveats in the documentation: https://pandas.pydata.org/pandas-docs/stable/user_guide/indexing.html#returning-a-view-versus-a-copy\n",
      "  self._setitem_single_column(loc, value, pi)\n"
     ]
    }
   ],
   "source": [
    "twopts = ['2-pt jump shot', '2-pt dunk', '2-pt layup','2-pt hook shot']\n",
    "f1 = data_game['ShotType'].isin(twopts)\n",
    "f2 = data_game['ShotOutcome'] == 'make'\n",
    "data_game.loc[(f1 & f2),'PointsAdded'] = 2"
   ]
  },
  {
   "cell_type": "code",
   "execution_count": 56,
   "id": "09c0442f",
   "metadata": {},
   "outputs": [],
   "source": [
    "threepts = ['3-pt jump shot']\n",
    "f1 = data_game['ShotType'].isin(threepts)\n",
    "f2 = data_game['ShotOutcome'] == 'make'\n",
    "data_game.loc[(f1 & f2),'PointsAdded'] = 3"
   ]
  },
  {
   "cell_type": "code",
   "execution_count": 44,
   "id": "ee740650",
   "metadata": {},
   "outputs": [
    {
     "ename": "ValueError",
     "evalue": "The truth value of a Series is ambiguous. Use a.empty, a.bool(), a.item(), a.any() or a.all().",
     "output_type": "error",
     "traceback": [
      "\u001b[0;31m---------------------------------------------------------------------------\u001b[0m",
      "\u001b[0;31mValueError\u001b[0m                                Traceback (most recent call last)",
      "\u001b[0;32m/tmp/ipykernel_313027/4260787864.py\u001b[0m in \u001b[0;36m<module>\u001b[0;34m\u001b[0m\n\u001b[0;32m----> 1\u001b[0;31m data_game['ShotType'] in ['2-pt jump shot', '2-pt dunk', '2-pt layup',\n\u001b[0m\u001b[1;32m      2\u001b[0m        '2-pt hook shot']\n",
      "\u001b[0;32m~/miniconda3/envs/bursts/lib/python3.7/site-packages/pandas/core/generic.py\u001b[0m in \u001b[0;36m__nonzero__\u001b[0;34m(self)\u001b[0m\n\u001b[1;32m   1536\u001b[0m     \u001b[0;32mdef\u001b[0m \u001b[0m__nonzero__\u001b[0m\u001b[0;34m(\u001b[0m\u001b[0mself\u001b[0m\u001b[0;34m)\u001b[0m\u001b[0;34m:\u001b[0m\u001b[0;34m\u001b[0m\u001b[0;34m\u001b[0m\u001b[0m\n\u001b[1;32m   1537\u001b[0m         raise ValueError(\n\u001b[0;32m-> 1538\u001b[0;31m             \u001b[0;34mf\"The truth value of a {type(self).__name__} is ambiguous. \"\u001b[0m\u001b[0;34m\u001b[0m\u001b[0;34m\u001b[0m\u001b[0m\n\u001b[0m\u001b[1;32m   1539\u001b[0m             \u001b[0;34m\"Use a.empty, a.bool(), a.item(), a.any() or a.all().\"\u001b[0m\u001b[0;34m\u001b[0m\u001b[0;34m\u001b[0m\u001b[0m\n\u001b[1;32m   1540\u001b[0m         )\n",
      "\u001b[0;31mValueError\u001b[0m: The truth value of a Series is ambiguous. Use a.empty, a.bool(), a.item(), a.any() or a.all()."
     ]
    }
   ],
   "source": [
    "data_game['ShotType'] in ['2-pt jump shot', '2-pt dunk', '2-pt layup',\n",
    "       '2-pt hook shot']"
   ]
  },
  {
   "cell_type": "code",
   "execution_count": 9,
   "id": "93df76e3",
   "metadata": {},
   "outputs": [],
   "source": [
    "import matplotlib.pyplot as plt"
   ]
  },
  {
   "cell_type": "code",
   "execution_count": 79,
   "id": "1f0fbe0a",
   "metadata": {},
   "outputs": [
    {
     "data": {
      "text/plain": [
       "[<matplotlib.lines.Line2D at 0x7f197f2337d0>]"
      ]
     },
     "execution_count": 79,
     "metadata": {},
     "output_type": "execute_result"
    },
    {
     "data": {
      "image/png": "[encoded data removed]",
      "text/plain": [
       "<Figure size 432x288 with 1 Axes>"
      ]
     },
     "metadata": {
      "needs_background": "light"
     },
     "output_type": "display_data"
    }
   ],
   "source": [
    "plt.plot(data_game[data_game['HomePlay'].notnull()]['PointsAdded'])\n",
    "plt.plot(-data_game[data_game['AwayPlay'].notnull()]['PointsAdded'])"
   ]
  },
  {
   "cell_type": "code",
   "execution_count": 211,
   "id": "785c99c4",
   "metadata": {},
   "outputs": [
    {
     "data": {
      "text/plain": [
       "[<matplotlib.lines.Line2D at 0x7f197449c490>,\n",
       " <matplotlib.lines.Line2D at 0x7f197eab9950>,\n",
       " <matplotlib.lines.Line2D at 0x7f197eab9290>,\n",
       " <matplotlib.lines.Line2D at 0x7f197ea5bd50>,\n",
       " <matplotlib.lines.Line2D at 0x7f197ea5b450>]"
      ]
     },
     "execution_count": 211,
     "metadata": {},
     "output_type": "execute_result"
    },
    {
     "data": {
      "image/png": "[encoded data removed]",
      "text/plain": [
       "<Figure size 432x288 with 1 Axes>"
      ]
     },
     "metadata": {
      "needs_background": "light"
     },
     "output_type": "display_data"
    }
   ],
   "source": [
    "H = data_game[data_game['HomePlay'].notnull()][['PointsAdded','TotalSecLeft']]\n",
    "A = data_game[data_game['AwayPlay'].notnull()][['PointsAdded','TotalSecLeft']]\n",
    "#bin_count = []\n",
    "width = 20*5\n",
    "tbins = np.arange(0,2880,width)\n",
    "Hdig = np.digitize(2880 - H['TotalSecLeft'],tbins,right=False)\n",
    "Adig = np.digitize(2880 - A['TotalSecLeft'],tbins,right=False)\n",
    "Hcount = [H[Hdig == n]['PointsAdded'].sum() for n in np.unique(Hdig)]\n",
    "Acount = [A[Adig == n]['PointsAdded'].sum() for n in np.unique(Adig)]\n",
    "plt.stem(tbins/60,Hcount,linefmt='-r',markerfmt='.r') #,width/60,facecolor='none',edgecolor='blue')\n",
    "plt.stem(tbins/60 + width/60/2,Acount,linefmt='-b',markerfmt='.b') #,width/60,facecolor='none',edgecolor='orange')\n",
    "plt.xticks([12,24,36,48])\n",
    "[plt.axvline((2880/60/4)*i,linestyle='--',color='k') for i in range(0,5)]\n",
    "#plt.xlim(-0.5,2880/60+0.5)"
   ]
  },
  {
   "cell_type": "code",
   "execution_count": null,
   "id": "dd3c2f15",
   "metadata": {},
   "outputs": [],
   "source": [
    "from math import abs"
   ]
  },
  {
   "cell_type": "code",
   "execution_count": 258,
   "id": "22b70214",
   "metadata": {},
   "outputs": [
    {
     "data": {
      "text/plain": [
       "2880.0"
      ]
     },
     "execution_count": 258,
     "metadata": {},
     "output_type": "execute_result"
    }
   ],
   "source": [
    "T = data_game[['ScoreDiff','TotalSecLeft']]\n",
    "mat = np.zeros((51,51))\n",
    "for ti in range(0,2880):\n",
    "    T_window = T[(2880 - T['TotalSecLeft'] >=ti) & (2880 - T['TotalSecLeft'] < ti+200)]\n",
    "    #T_window_dig = np.digitize(2880 - T_window['TotalSecLeft'],tbins,right=False)\n",
    "    ii = T_window.iloc[0,0]\n",
    "    jj = T_window.iloc[0,-1]\n",
    "    if ii > 25: ii = 25\n",
    "    elif ii < -25: ii = -25\n",
    "    else: ii = int(ii)\n",
    "    if jj > 25: jj = 25\n",
    "    elif jj < -25: jj = -25\n",
    "    else: jj = int(jj)\n",
    "    #print(ii,jj)\n",
    "    mat[ii + 25,jj+25] +=1\n",
    "mat.sum()"
   ]
  },
  {
   "cell_type": "code",
   "execution_count": 259,
   "id": "1f6131ba",
   "metadata": {},
   "outputs": [
    {
     "name": "stderr",
     "output_type": "stream",
     "text": [
      "/home/james/miniconda3/envs/bursts/lib/python3.7/site-packages/ipykernel_launcher.py:2: RuntimeWarning: invalid value encountered in true_divide\n",
      "  \n"
     ]
    },
    {
     "data": {
      "text/plain": [
       "24.0"
      ]
     },
     "execution_count": 259,
     "metadata": {},
     "output_type": "execute_result"
    }
   ],
   "source": [
    "row_sums = mat.sum(axis=1)\n",
    "new_mat = mat / row_sums[:, np.newaxis]\n",
    "np.nan_to_num(new_mat).sum()"
   ]
  },
  {
   "cell_type": "code",
   "execution_count": 13,
   "id": "1200e28c",
   "metadata": {},
   "outputs": [
    {
     "name": "stderr",
     "output_type": "stream",
     "text": [
      "/home/james/miniconda3/envs/bursts/lib/python3.7/site-packages/matplotlib/cbook/__init__.py:1377: FutureWarning: Support for multi-dimensional indexing (e.g. `obj[:, None]`) is deprecated and will be removed in a future version.  Convert to a numpy array before indexing instead.\n",
      "  x[:, None]\n",
      "/home/james/miniconda3/envs/bursts/lib/python3.7/site-packages/matplotlib/axes/_base.py:237: FutureWarning: Support for multi-dimensional indexing (e.g. `obj[:, None]`) is deprecated and will be removed in a future version.  Convert to a numpy array before indexing instead.\n",
      "  x = x[:, np.newaxis]\n",
      "/home/james/miniconda3/envs/bursts/lib/python3.7/site-packages/matplotlib/axes/_base.py:239: FutureWarning: Support for multi-dimensional indexing (e.g. `obj[:, None]`) is deprecated and will be removed in a future version.  Convert to a numpy array before indexing instead.\n",
      "  y = y[:, np.newaxis]\n"
     ]
    },
    {
     "data": {
      "text/plain": [
       "[<matplotlib.lines.Line2D at 0x7f197fb7d890>]"
      ]
     },
     "execution_count": 13,
     "metadata": {},
     "output_type": "execute_result"
    },
    {
     "data": {
      "image/png": "[encoded data removed]",
      "text/plain": [
       "<Figure size 432x288 with 1 Axes>"
      ]
     },
     "metadata": {
      "needs_background": "light"
     },
     "output_type": "display_data"
    }
   ],
   "source": [
    "plt.plot(2580 - data_game['TotalSecLeft'],data_game['HomeScore'])\n",
    "plt.plot(2580 - data_game['TotalSecLeft'],data_game['AwayScore'])"
   ]
  },
  {
   "cell_type": "code",
   "execution_count": 159,
   "id": "ee042113",
   "metadata": {},
   "outputs": [
    {
     "data": {
      "text/plain": [
       "array([0.])"
      ]
     },
     "execution_count": 159,
     "metadata": {},
     "output_type": "execute_result"
    }
   ],
   "source": [
    "t"
   ]
  },
  {
   "cell_type": "code",
   "execution_count": null,
   "id": "b7be0c5a",
   "metadata": {},
   "outputs": [],
   "source": []
  }
 ],
 "metadata": {
  "kernelspec": {
   "display_name": "Python 3 (ipykernel)",
   "language": "python",
   "name": "python3"
  },
  "language_info": {
   "codemirror_mode": {
    "name": "ipython",
    "version": 3
   },
   "file_extension": ".py",
   "mimetype": "text/x-python",
   "name": "python",
   "nbconvert_exporter": "python",
   "pygments_lexer": "ipython3",
   "version": "3.7.12"
  }
 },
 "nbformat": 4,
 "nbformat_minor": 5
}
